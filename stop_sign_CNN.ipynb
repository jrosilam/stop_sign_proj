{
 "cells": [
  {
   "cell_type": "markdown",
   "metadata": {},
   "source": [
    "# Project Overview\n",
    "In this course, you learned how to train and use custom classifiers. For the project in this module, you will develop a new custom classifier using one of the classification methods you learnt and then deploy it as a web app using Code Engine. There are various advantages to deploying your classifier. First, you can share your classifier with anyone in the world. They simply need to enter the URL of your model into any web browser. Second, you can showcase your web app in your portfolio and your potential future employers can interact with your project."
   ]
  },
  {
   "cell_type": "markdown",
   "metadata": {},
   "source": [
    "# Project Scenario\n",
    "You have been employed as a Junior Data Scientist by Jokwu, a self-driving car start-up in Capetown, South Africa. Jokwu has created the hardware and parts of the car, and they are beginning to create sensors; the next step is to have a working model that identifies traffic signs. The project and product team have decided to start with stop signs - is it a stop sign or not?   \n",
    "\n",
    "As a first step, you have been given a dataset and tasked with training a model that identifies the stop signs in an image. This will be integrated into a motion detector as a next step."
   ]
  },
  {
   "cell_type": "markdown",
   "metadata": {},
   "source": [
    "# Project Tasks\n",
    "\n",
    "Your job is to load the training images, create features, and train the model. You will then deploy the model to Code Engine so your manager can upload an image of a stop sign and your image classifier will classify the image and tell them to what accuracy it predicts it is correct. You will utilize CV Studio to develop this model and then deploy it as a web app by completing the tasks below.  \n",
    "\n",
    "Once you are done, please take screenshots of your results to upload them for a peer evaluation. This final project will be worth 25% of your final grade.\n",
    "\n",
    "- **Task 1**: Gather and Upload Your Data\n",
    "\n",
    "- **Task 2**: Train Your Classifier\n",
    "\n",
    "- **Task 3**: Deploy Your Model\n",
    "\n",
    "- **Task 4**: Test Your Classifier\n",
    "\n",
    "- **Task 5**: Submit Your Assignment and Evaluate Your Peers"
   ]
  }
 ],
 "metadata": {
  "language_info": {
   "name": "python"
  },
  "orig_nbformat": 4
 },
 "nbformat": 4,
 "nbformat_minor": 2
}
